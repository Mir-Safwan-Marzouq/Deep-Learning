{
  "nbformat": 4,
  "nbformat_minor": 0,
  "metadata": {
    "colab": {
      "provenance": [],
      "authorship_tag": "ABX9TyOTWijuvgPhCY4yGjVvDdMm",
      "include_colab_link": true
    },
    "kernelspec": {
      "name": "python3",
      "display_name": "Python 3"
    },
    "language_info": {
      "name": "python"
    }
  },
  "cells": [
    {
      "cell_type": "markdown",
      "metadata": {
        "id": "view-in-github",
        "colab_type": "text"
      },
      "source": [
        "<a href=\"https://colab.research.google.com/github/Mir-Safwan-Marzouq/Deep-Learning/blob/main/6_Neural%20Network%20Model%20Creating%20from%20scratch/Implementing_Neural_Network_in_Python_From_Scratch.ipynb\" target=\"_parent\"><img src=\"https://colab.research.google.com/assets/colab-badge.svg\" alt=\"Open In Colab\"/></a>"
      ]
    },
    {
      "cell_type": "code",
      "execution_count": null,
      "metadata": {
        "id": "uA_9pUWQU_do"
      },
      "outputs": [],
      "source": [
        "import numpy as np\n",
        "import pandas as pd\n",
        "import matplotlib.pyplot as plt\n",
        "%matplotlib inline\n",
        "\n",
        "df = pd.read_csv(\"/content/insurance_data2.csv\")\n",
        "\n",
        "# train and test split\n",
        "from sklearn.model_selection import train_test_split\n",
        "X_train, X_test, y_train, y_test = train_test_split(df[['age', 'affordibility']], df.bought_insurance, test_size =0.2, random_state=25)\n",
        "\n",
        "#scaling as age is from 0 to 100\n",
        "X_train_scaled = X_train.copy()\n",
        "X_train_scaled['age'] = X_train_scaled['age'] / 100\n",
        "\n",
        "X_test_scaled = X_test.copy()\n",
        "X_test_scaled['age'] = X_test_scaled['age'] / 100\n",
        "\n",
        "def log_loss(y_true, y_predicted):\n",
        "  epsilon = 1e-15\n",
        "  y_predicted_new = [max(i,epsilon) for i in y_predicted]\n",
        "  y_predicted_new = [min(i,1-epsilon) for i in y_predicted_new]\n",
        "  y_predicted_new = np.array(y_predicted_new)\n",
        "  return -np.mean(y_true*np.log(y_predicted_new)+(1-y_true)* np.log(1-y_predicted_new))\n",
        "\n",
        "def sigmoid_numpy(X):\n",
        "  return 1/ (1+np.exp(-X))\n",
        "\n",
        "class myNN:\n",
        "  def _init_(self):\n",
        "    self.w1 = 1\n",
        "    self.w1 = 1\n",
        "    bias = 0\n",
        "  \n",
        "\n",
        "  def fit(self, X, y, epochs, loss_threshold):\n",
        "    self.w1, self.w2, self.bias = self.gradient_descent(X['age'], X['affordibility'], y, epochs, loss_threshold)\n",
        "# gradient descent function helps you find out weight\n",
        "# w1, w2 and bias\n",
        "\n",
        "\n",
        "  def predict(self, X_test):\n",
        "    weighted_sum = self.w1 * X_test['age'] + self.w2 * X_test['affordibility'] + self.bias\n",
        "    return sigmoid_numpy(weighted_sum)\n",
        "\n",
        "  def gradient_descent(self, age, affordibility, y_true, epochs, loss_threshold):\n",
        "    w1=w2=1\n",
        "    bias=0\n",
        "    learning_rate=0.5\n",
        "    n=len(age)\n",
        "\n",
        "    for i in range(epochs):\n",
        "      weighted_sum = w1*age + w2*affordibility + bias\n",
        "      y_predicted = sigmoid_numpy(weighted_sum)\n",
        "      loss = log_loss(y_true, y_predicted)\n",
        "\n",
        "      w1d = (1/n) * np.dot(np.transpose(age),(y_predicted - y_true))\n",
        "      w2d = (1/n) * np.dot(np.transpose(affordibility),(y_predicted - y_true))\n",
        "      bias_d = np.mean(y_predicted-y_true)\n",
        "\n",
        "      w1 = w1 - learning_rate * w1d\n",
        "      w2 = w2 - learning_rate * w2d\n",
        "      bias = bias - learning_rate * bias_d\n",
        "\n",
        "      if i%50 == 0:\n",
        "        print(f'Epoch: {i}, w1:{w1}, w2:{w2}, bias:{bias}, loss:{loss}')\n",
        "      if(loss <= loss_threshold):\n",
        "        break\n",
        "    print(f'Epoch: {i}, w1:{w1}, w2:{w2}, bias:{bias}, loss:{loss}')\n",
        "    return w1, w2, bias"
      ]
    },
    {
      "cell_type": "code",
      "source": [
        "customModel = myNN()\n",
        "customModel.fit(X_train_scaled, y_train, epochs=500, loss_threshold = 0.4631)"
      ],
      "metadata": {
        "colab": {
          "base_uri": "https://localhost:8080/"
        },
        "id": "HxLmg4iNYWsn",
        "outputId": "af8957ae-b791-480f-99cd-1aafe181f609"
      },
      "execution_count": null,
      "outputs": [
        {
          "output_type": "stream",
          "name": "stdout",
          "text": [
            "Epoch: 0, w1:0.974907633470177, w2:0.948348125394529, bias:-0.11341867736368583, loss:0.7113403233723417\n",
            "Epoch: 50, w1:1.503319554173139, w2:1.108384790367645, bias:-1.2319047301235464, loss:0.5675865113475955\n",
            "Epoch: 100, w1:2.200713131760032, w2:1.2941584023238903, bias:-1.6607009122062801, loss:0.5390680417774752\n",
            "Epoch: 150, w1:2.8495727769689085, w2:1.3696895491572745, bias:-1.986105845859897, loss:0.5176462164249294\n",
            "Epoch: 200, w1:3.443016970881803, w2:1.4042218624465033, bias:-2.2571369883752723, loss:0.5005011269691375\n",
            "Epoch: 250, w1:3.982450494649576, w2:1.4239127329321233, bias:-2.494377365971801, loss:0.48654089537617085\n",
            "Epoch: 300, w1:4.472179522095915, w2:1.438787986553552, bias:-2.707387811922373, loss:0.4750814640632793\n",
            "Epoch: 350, w1:4.917245868007634, w2:1.4525660781176122, bias:-2.901176333556766, loss:0.46561475306999006\n",
            "Epoch: 366, w1:5.051047623653049, w2:1.4569794548473887, bias:-2.9596534546250037, loss:0.46293944095888917\n"
          ]
        }
      ]
    },
    {
      "cell_type": "code",
      "source": [
        "customModel.predict(X_test_scaled)"
      ],
      "metadata": {
        "colab": {
          "base_uri": "https://localhost:8080/"
        },
        "id": "6CWJYRYabn8i",
        "outputId": "c95c1e25-9402-4a42-a842-f5307809148c"
      },
      "execution_count": null,
      "outputs": [
        {
          "output_type": "execute_result",
          "data": {
            "text/plain": [
              "2     0.705020\n",
              "10    0.355836\n",
              "21    0.161599\n",
              "11    0.477919\n",
              "14    0.725586\n",
              "9     0.828987\n",
              "dtype: float64"
            ]
          },
          "metadata": {},
          "execution_count": 10
        }
      ]
    },
    {
      "cell_type": "code",
      "source": [],
      "metadata": {
        "id": "eDPFcxrZeNAt"
      },
      "execution_count": null,
      "outputs": []
    }
  ]
}